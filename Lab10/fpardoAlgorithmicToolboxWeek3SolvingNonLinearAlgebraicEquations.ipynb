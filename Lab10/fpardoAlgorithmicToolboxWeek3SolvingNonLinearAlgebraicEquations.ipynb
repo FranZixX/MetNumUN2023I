{
  "nbformat": 4,
  "nbformat_minor": 0,
  "metadata": {
    "kernelspec": {
      "display_name": "Python 3",
      "language": "python",
      "name": "python3"
    },
    "language_info": {
      "codemirror_mode": {
        "name": "ipython",
        "version": 3
      },
      "file_extension": ".py",
      "mimetype": "text/x-python",
      "name": "python",
      "nbconvert_exporter": "python",
      "pygments_lexer": "ipython3",
      "version": "3.5.2"
    },
    "colab": {
      "provenance": []
    }
  },
  "cells": [
    {
      "cell_type": "markdown",
      "metadata": {
        "id": "h2TxjE6ST95B"
      },
      "source": [
        "# Part I. Root-finding. Newton's iteration."
      ]
    },
    {
      "cell_type": "markdown",
      "metadata": {
        "id": "_qFXBbLXT95F"
      },
      "source": [
        "Write a function which performs Newton's iteration for a given function $f(x)$ with known derivative $f'(x)$. Your function should find the root of $f(x)$ with a predefined absolute accuracy $\\epsilon$. "
      ]
    },
    {
      "cell_type": "code",
      "metadata": {
        "collapsed": true,
        "id": "chRy1mRpT95F"
      },
      "source": [
        "def newton_iteration(f, fder, x0, eps=1e-5, maxiter=1000):\n",
        "    \"\"\"Find a root of $f(x) = 0$ via Newton's iteration starting from x0.\n",
        "    \n",
        "    Parameters\n",
        "    ----------\n",
        "    f : callable\n",
        "        The function to find a root of.\n",
        "    fder : callable\n",
        "        The derivative of `f`.\n",
        "    x0 : float\n",
        "        Initial value for the Newton's iteration.\n",
        "    eps : float\n",
        "        The target accuracy. \n",
        "        The iteration stops when the distance between successive iterates is below `eps`.\n",
        "        Default is 1e-5.\n",
        "    maxiter : int\n",
        "        The maximum number of iterations (default is 1000.)\n",
        "        Iterations terminate if the number of iterations exceeds `maxiter`.\n",
        "        This parameter is only needed to avoid infinite loops if iterations wander off.\n",
        "        \n",
        "    Returns\n",
        "    -------\n",
        "    x : float\n",
        "        The estimate for the root.\n",
        "    niter : int\n",
        "        The number of iterations.\n",
        "    \"\"\"\n",
        "    # ... ENTER YOUR CODE HERE ...\n",
        "        \n",
        "def newton_iteration(f, fder, x0, eps=1e-5, maxiter=1000):\n",
        "  x = x0\n",
        "  niter = 0\n",
        "  while True:\n",
        "    x_prev = x\n",
        "    x = x - f(x) / fder(x)\n",
        "    niter += 1\n",
        "    if abs(x - x_prev) < eps:\n",
        "      return x, niter\n",
        "    if niter >= maxiter:\n",
        "      raise ValueError(\"Maximum number of iterations exceeded.\")\n"
      ],
      "execution_count": 1,
      "outputs": []
    },
    {
      "cell_type": "markdown",
      "metadata": {
        "id": "qGsOVPqwT95G"
      },
      "source": [
        "### Test I.1 \n",
        "\n",
        "Test your implementation on a simple example, $f(x) = x^2 - 1$ or similar. (20% of the total grade)"
      ]
    },
    {
      "cell_type": "code",
      "metadata": {
        "collapsed": true,
        "id": "ggan1StnT95H",
        "colab": {
          "base_uri": "https://localhost:8080/"
        },
        "outputId": "56887cd9-5392-414d-da35-4d4fac3feb81"
      },
      "source": [
        "# ... ENTER YOUR CODE HERE ...\n",
        "\n",
        "def f(x):\n",
        "    return x**2 - 1\n",
        "\n",
        "def fder(x):\n",
        "    return 2*x\n",
        "\n",
        "\n",
        "root, iteration_count = newton_iteration(f, fder, 0.05)\n",
        "\n",
        "print(root)\n",
        "print(iteration_count)"
      ],
      "execution_count": 3,
      "outputs": [
        {
          "output_type": "stream",
          "name": "stdout",
          "text": [
            "1.0000000000149214\n",
            "8\n"
          ]
        }
      ]
    },
    {
      "cell_type": "markdown",
      "metadata": {
        "id": "wzkKQBL7T95H"
      },
      "source": [
        "### Test I.2\n",
        "\n",
        "Now consider a function which has a multiple root. Take $f(x) = (x^2 - 1)^2$ as an example. Implement a modified Newton's iteraion,\n",
        "\n",
        "$$\n",
        "x_{n+1} = x_{n} - m \\frac{f(x_n)}{f'(x_n)}\n",
        "$$\n",
        "\n",
        "and vary $m= 1, 2, 3, 4, 5$. Check the number of iterations required for convergence within a fixed $\\epsilon$. Are your observations consistent with the expectation that the convergence is quadratic is $m$ equals the multiplicity of the root, and is linear otherwise? (40% of the total grade)"
      ]
    },
    {
      "cell_type": "code",
      "metadata": {
        "collapsed": true,
        "id": "OIx5yP-9T95I",
        "colab": {
          "base_uri": "https://localhost:8080/"
        },
        "outputId": "695ce171-9695-4065-a72f-721498fe9172"
      },
      "source": [
        "# ... ENTER YOUR CODE HERE ...\n",
        "\n",
        "def modified_newton_iteration(f, fder, x0, m, eps=1e-5, maxiter=1000):\n",
        "    x = x0\n",
        "    niter = 0\n",
        "    \n",
        "    while True:\n",
        "        x_prev = x\n",
        "        x = x - m * f(x) / fder(x)\n",
        "        niter += 1\n",
        "        \n",
        "        if abs(x - x_prev) < eps:\n",
        "            return x, niter\n",
        "        \n",
        "        if niter >= maxiter:\n",
        "            return x, niter\n",
        "            break\n",
        "\n",
        "def f(x):\n",
        "    return (x**2 - 1)**2\n",
        "\n",
        "def fder(x):\n",
        "    return 4 * x * (x**2 - 1)\n",
        "\n",
        "x0 = 1.5\n",
        "epsilon = 1e-5\n",
        "maxiter=1000\n",
        "for m in range(1, 6):\n",
        "    root, iterations = modified_newton_iteration(f, fder, x0, m, epsilon,maxiter)\n",
        "    if (iterations>=maxiter):\n",
        "      print(f\"No se alcanza la convergencia para m = {m}\")\n",
        "    else:\n",
        "      print(f\"m = {m}:\")\n",
        "      print(\"Root:\", root)\n",
        "      print(\"Iterations:\", iterations)\n",
        "      print()\n"
      ],
      "execution_count": 4,
      "outputs": [
        {
          "output_type": "stream",
          "name": "stdout",
          "text": [
            "m = 1:\n",
            "Root: 1.0000057591705684\n",
            "Iterations: 17\n",
            "\n",
            "m = 2:\n",
            "Root: 1.000000000013107\n",
            "Iterations: 4\n",
            "\n",
            "m = 3:\n",
            "Root: 0.9999978588127855\n",
            "Iterations: 17\n",
            "\n",
            "No se alcanza la convergencia para m = 4\n",
            "No se alcanza la convergencia para m = 5\n"
          ]
        }
      ]
    },
    {
      "cell_type": "markdown",
      "metadata": {
        "id": "T9om2b1lT95I"
      },
      "source": [
        "# Part II. Fixed-point iteration"
      ]
    },
    {
      "cell_type": "markdown",
      "metadata": {
        "id": "urnNPsOKT95J"
      },
      "source": [
        "Consider the following equation:\n",
        "\n",
        "$$\n",
        "\\sqrt{x} = \\cos{x}\n",
        "$$\n",
        "\n",
        "Plot the left-hand side and right-hand side of this equation, and localize the root graphically. Estimate the location of the root by visual inspection of the plot.\n",
        "\n",
        "Write a function which finds the solution using fixed-point iteration up to a predefined accuracy $\\epsilon$. Compare the result to an estimate from a visual inspection.\n",
        "\n",
        "Next, rewrite the fixed-point problem in the form\n",
        "\n",
        "$$\n",
        "x = x - \\alpha f(x)\n",
        "$$\n",
        "\n",
        "where $\\alpha$ is the free parameter. Check the dependence of the number of iterations required for a given $\\epsilon$ on $\\alpha$. Compare your results to an expectation that the optimal value of $\\alpha$ is given by \n",
        "\n",
        "$$\n",
        "\\alpha = \\frac{2}{m + M}\n",
        "$$\n",
        "\n",
        "where $0 < m < |f'(x)| < M$ over the localization interval. (40% of the total grade)"
      ]
    },
    {
      "cell_type": "code",
      "metadata": {
        "collapsed": true,
        "id": "SOlb04UzT95K",
        "colab": {
          "base_uri": "https://localhost:8080/",
          "height": 1000
        },
        "outputId": "a8870f89-c0f9-41bf-f5eb-9411326fd51b"
      },
      "source": [
        "# ... ENTER YOUR CODE HERE ...\n",
        "\n",
        "import numpy as np\n",
        "import matplotlib.pyplot as plt\n",
        "\n",
        "x = np.linspace(0.1, 7, 100)\n",
        "lhs = x - np.sqrt(x)\n",
        "rhs = np.cos(x)\n",
        "\n",
        "plt.plot(x, lhs, label='LHS: x - sqrt(x)')\n",
        "plt.plot(x, rhs, label='RHS: cos(x)')\n",
        "plt.axhline(0, color='black', linewidth=0.5)\n",
        "plt.legend()\n",
        "plt.xlabel('x')\n",
        "plt.ylabel('f(x)')\n",
        "plt.title('Plot of LHS and RHS of the Equation')\n",
        "plt.grid(True)\n",
        "plt.show()\n",
        "\n",
        "\n",
        "\n",
        "def f(x):\n",
        "    return np.sqrt(x) + np.cos(x)\n",
        "\n",
        "def fixed_point_iteration(x0, epsilon=1e-5, maxiter=1000):\n",
        "    x = x0\n",
        "    niter = 0\n",
        "    \n",
        "    while True:\n",
        "        x_new = f(x)\n",
        "        niter += 1\n",
        "        \n",
        "        if abs(x_new - x) < epsilon:\n",
        "            return x_new, niter\n",
        "        \n",
        "        if niter >= maxiter:\n",
        "            raise ValueError(\"Maximum number of iterations exceeded.\")\n",
        "        \n",
        "        x = x_new\n",
        "\n",
        "x0 = 0.5\n",
        "root, iterations = fixed_point_iteration(x0)\n",
        "print(\"Fixed-Point Iteration Result:\")\n",
        "print(\"Root:\", root)\n",
        "print(\"Iterations:\", iterations)\n",
        "\n",
        "\n",
        "\n",
        "\n",
        "def f(x):\n",
        "    if x >= 0:\n",
        "        return np.sqrt(x) - np.cos(x)\n",
        "    else:\n",
        "        return np.nan\n",
        "\n",
        "def f_prime(x):\n",
        "    return 0.5 / np.sqrt(x) + np.sin(x)\n",
        "\n",
        "def fixed_point_iteration_alpha(x0, alpha, epsilon=1e-5, maxiter=1000):\n",
        "    x = x0\n",
        "    niter = 0\n",
        "    \n",
        "    while True:\n",
        "        x_new = x - alpha * f(x)\n",
        "        niter += 1\n",
        "        \n",
        "        if abs(x_new - x) < epsilon:\n",
        "            return x_new, niter\n",
        "        \n",
        "        if niter >= maxiter:\n",
        "            return None, niter\n",
        "        \n",
        "        x = x_new\n",
        "\n",
        "x0 = 0.5\n",
        "epsilon = 1e-5\n",
        "localization_interval = [0.5, 1.0] \n",
        "\n",
        "m = np.min(np.abs(f_prime(localization_interval)))\n",
        "M = np.max(np.abs(f_prime(localization_interval)))\n",
        "\n",
        "optimal_alpha = 2 * m + M\n",
        "print(\"Optimal Alpha:\", optimal_alpha)\n",
        "\n",
        "alpha_values = np.linspace(0.1, 2 * m + M, 10)\n",
        "for alpha in alpha_values:\n",
        "    root, iterations = fixed_point_iteration_alpha(x0, alpha, epsilon=epsilon)\n",
        "    print(f\"Alpha: {alpha:.6f}\")\n",
        "    print(\"Root:\", root)\n",
        "    print(\"Iterations:\", iterations)\n",
        "    print()"
      ],
      "execution_count": 12,
      "outputs": [
        {
          "output_type": "display_data",
          "data": {
            "text/plain": [
              "<Figure size 640x480 with 1 Axes>"
            ],
            "image/png": "[encoded data removed]"
          },
          "metadata": {}
        },
        {
          "output_type": "stream",
          "name": "stdout",
          "text": [
            "Fixed-Point Iteration Result:\n",
            "Root: 1.3699454974006748\n",
            "Iterations: 20\n",
            "Optimal Alpha: 3.7145356243893977\n",
            "Alpha: 0.100000\n",
            "Root: 0.6416485738150456\n",
            "Iterations: 59\n",
            "\n",
            "Alpha: 0.501615\n",
            "Root: 0.641710095863861\n",
            "Iterations: 11\n",
            "\n",
            "Alpha: 0.903230\n",
            "Root: 0.6417142163790082\n",
            "Iterations: 6\n",
            "\n",
            "Alpha: 1.304845\n",
            "Root: 0.6417169547121604\n",
            "Iterations: 21\n",
            "\n",
            "Alpha: 1.706460\n",
            "Root: None\n",
            "Iterations: 1000\n",
            "\n",
            "Alpha: 2.108075\n",
            "Root: None\n",
            "Iterations: 1000\n",
            "\n",
            "Alpha: 2.509690\n",
            "Root: None\n",
            "Iterations: 1000\n",
            "\n",
            "Alpha: 2.911305\n",
            "Root: None\n",
            "Iterations: 1000\n",
            "\n",
            "Alpha: 3.312921\n",
            "Root: None\n",
            "Iterations: 1000\n",
            "\n",
            "Alpha: 3.714536\n",
            "Root: None\n",
            "Iterations: 1000\n",
            "\n"
          ]
        }
      ]
    },
    {
      "cell_type": "markdown",
      "metadata": {
        "id": "WaEqb4_ST95K"
      },
      "source": [
        "# Part III. Newton's fractal.\n",
        "\n",
        "(Not graded). \n",
        "\n",
        "Consider the equation\n",
        "\n",
        "$$\n",
        "x^3 = 1\n",
        "$$\n",
        "\n",
        "It has three solutions in the complex plane, $x_k = \\exp(i\\, 2\\pi k/ 3)$, $k = 0, 1, 2$.\n",
        "\n",
        "The Newton's iterations converge to one of these solutions, depending on the starting point in the complex plane (to converge to a complex-valued solution, the iteration needs a complex-valued starting point).\n",
        "\n",
        "Plot the \\emph{basins of attraction} of these roots on the complex plane of $x$ (i.e., on the plane $\\mathrm{Re}x$ -- $\\mathrm{Im}x$). To this end, make a series of calculations, varying the initial conditions on a grid of points. \n",
        "Color the grid in three colors, according to the root, to which iterations converged."
      ]
    },
    {
      "cell_type": "code",
      "metadata": {
        "collapsed": true,
        "id": "WkOcvzD5T95K",
        "colab": {
          "base_uri": "https://localhost:8080/",
          "height": 666
        },
        "outputId": "501435e6-5070-4237-92fe-92df7b8f5df8"
      },
      "source": [
        "import numpy as np\n",
        "import matplotlib.pyplot as plt\n",
        "from matplotlib.colors import ListedColormap\n",
        "\n",
        "def f(x):\n",
        "    return x**3 - 1\n",
        "\n",
        "def newton_iteration_complex(x0, epsilon=1e-5, maxiter=100):\n",
        "    x = x0\n",
        "    niter = 0\n",
        "\n",
        "    while True:\n",
        "        x_new = x - f(x) / (3 * x**2)\n",
        "        niter += 1\n",
        "\n",
        "        if np.abs(x_new - x) < epsilon or niter >= maxiter:\n",
        "            return x_new\n",
        "        \n",
        "        x = x_new\n",
        "\n",
        "\n",
        "real_range = np.linspace(-2, 2, 1000)\n",
        "imag_range = np.linspace(-2, 2, 1000)\n",
        "grid = np.meshgrid(real_range, imag_range)\n",
        "complex_grid = grid[0] + 1j * grid[1]\n",
        "\n",
        "root_colors = np.zeros_like(complex_grid, dtype=int)\n",
        "roots = [np.exp(1j * 2 * np.pi * k / 3) for k in range(3)]\n",
        "\n",
        "for i in range(complex_grid.shape[0]):\n",
        "    for j in range(complex_grid.shape[1]):\n",
        "        root = newton_iteration_complex(complex_grid[i, j])\n",
        "        if np.isclose(root, roots[0]):\n",
        "            root_colors[i, j] = 0\n",
        "        elif np.isclose(root, roots[1]):\n",
        "            root_colors[i, j] = 1\n",
        "        elif np.isclose(root, roots[2]):\n",
        "            root_colors[i, j] = 2\n",
        "\n",
        "custom_cmap = ListedColormap(['purple', 'pink', 'white'])\n",
        "\n",
        "plt.figure(figsize=(8, 8))\n",
        "plt.imshow(root_colors, extent=(-2, 2, -2, 2), cmap=custom_cmap, origin='lower')\n",
        "plt.colorbar(ticks=[0, 1, 2], label='Root')\n",
        "plt.xlabel('Re(x)')\n",
        "plt.ylabel('Im(x)')\n",
        "plt.title('Basins of Attraction')\n",
        "plt.show()\n"
      ],
      "execution_count": 15,
      "outputs": [
        {
          "output_type": "display_data",
          "data": {
            "text/plain": [
              "<Figure size 800x800 with 2 Axes>"
            ],
            "image/png": "[encoded data removed]"
          },
          "metadata": {}
        }
      ]
    }
  ]
}